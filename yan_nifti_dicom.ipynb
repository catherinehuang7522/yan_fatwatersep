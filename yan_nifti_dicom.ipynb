{
 "cells": [
  {
   "cell_type": "code",
   "execution_count": 1,
   "metadata": {},
   "outputs": [],
   "source": [
    "#if first time, \"pip install <package>\" for each\n",
    "import dicom2nifti\n",
    "import nii2dcm"
   ]
  },
  {
   "cell_type": "code",
   "execution_count": null,
   "metadata": {},
   "outputs": [],
   "source": [
    "#dicom to nifti\n",
    "\n",
    "dicom_directory = '/mnt/dense/yanwu/my_Sec/Arc/pt01_02Jul20_Ex3856_Ser12_my_Sec_arc/test_dicom/1_in/'\n",
    "output_nii = '/mnt/dense/yanwu/my_Sec/Arc/pt01_02Jul20_Ex3856_Ser12_my_Sec_arc/output_nii/'\n",
    "\n",
    "dicom2nifti.convert_directory(dicom_directory, output_nii, compression=True, reorient=True)"
   ]
  },
  {
   "cell_type": "code",
   "execution_count": 1,
   "metadata": {},
   "outputs": [],
   "source": [
    "import os\n",
    "import nibabel as nib\n",
    "import numpy as np\n",
    "from pydicom import dcmread"
   ]
  },
  {
   "cell_type": "code",
   "execution_count": null,
   "metadata": {},
   "outputs": [],
   "source": [
    "#nifti to nifti (deep learning fat-water stuff)\n",
    "import os\n",
    "import nibabel as nib\n",
    "import numpy as np\n",
    "from pydicom import dcmread\n",
    "\n",
    "root = '/mnt/dense/yanwu/my_Sec/Arc/pt01_02Jul20_Ex3856_Ser12_my_Sec_arc/test_dicom/all'\n",
    "files = os.listdir(os.curdir)\n",
    "files.sort()\n",
    "\n",
    "num_slices = int(len(files)/6)\n",
    "for ii in range(num_slices):\n",
    "    water = files.pop()\n",
    "    print(' ',water)\n",
    "    slice = water[4:7]\n",
    "\n",
    "    op_ph = files.pop()\n",
    "    op_mag = files.pop()\n",
    "    ip_ph = files.pop()\n",
    "    ip_mag = files.pop()\n",
    "    fat = files.pop()\n",
    "\n",
    "    ds1 = dcmread(os.path.join(root, ip_mag))\n",
    "    pixel1 = ds1.pixel_array\n",
    "    pixel1 = pixel1.reshape(512*512)\n",
    "\n",
    "    ds2 = dcmread(os.path.join(root, ip_ph))\n",
    "    pixel2 = ds2.pixel_array\n",
    "    pixel2 = pixel2.reshape(512*512)\n",
    "\n",
    "    ds3 = dcmread(os.path.join(root, op_mag))\n",
    "    pixel3 = ds3.pixel_array\n",
    "    pixel3 = pixel1.reshape(512*512)\n",
    "\n",
    "    ds4 = dcmread(os.path.join(root, op_ph))\n",
    "    pixel4 = ds4.pixel_array\n",
    "    pixel4 = pixel4.reshape(512*512)\n",
    "\n",
    "    input_img = np.vstack((pixel1, pixel2, pixel3, pixel4))\n",
    "    input_img = input_img.reshape(4,512,512)\n",
    "    input_image_nii = nib.Nifti1Image(input_img, affine=np.eye(4))\n",
    "    input_image_path = '/home/chuang/yan_nifti/nifti_test/in_'+slice+'.nii'\n",
    "    nib.save(input_image_nii, input_image_path)\n",
    "\n",
    "    ds5 = dcmread(os.path.join(root, water))\n",
    "    water_img = ds5.pixel_array\n",
    "    water_img_nii = nib.Nifti1Image(water_img, affine=np.eye(4))\n",
    "    water_path = '/home/chuang/yan_nifti/nifti_test/water_'+slice+'.nii'\n",
    "    nib.save(water_img_nii, water_path)\n",
    "\n",
    "    ds6 = dcmread(os.path.join(root, fat))\n",
    "    fat_img = ds6.pixel_array\n",
    "    fat_img_nii = nib.Nifti1Image(fat_img, affine=np.eye(4))\n",
    "    fat_path = '/home/chuang/yan_nifti/nifti_test/fat_'+slice+'.nii'\n",
    "    nib.save(fat_img_nii, fat_path)"
   ]
  },
  {
   "cell_type": "code",
   "execution_count": null,
   "metadata": {},
   "outputs": [],
   "source": [
    "#nifti to dicom\n",
    "nii2dcm nifti-file.nii.gz dicom-output-directory/"
   ]
  }
 ],
 "metadata": {
  "kernelspec": {
   "display_name": "base",
   "language": "python",
   "name": "python3"
  },
  "language_info": {
   "codemirror_mode": {
    "name": "ipython",
    "version": 3
   },
   "file_extension": ".py",
   "mimetype": "text/x-python",
   "name": "python",
   "nbconvert_exporter": "python",
   "pygments_lexer": "ipython3",
   "version": "3.8.10"
  }
 },
 "nbformat": 4,
 "nbformat_minor": 2
}
